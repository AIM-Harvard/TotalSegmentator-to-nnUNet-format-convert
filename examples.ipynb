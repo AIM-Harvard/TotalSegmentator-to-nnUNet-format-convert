{
 "cells": [
  {
   "cell_type": "code",
   "execution_count": 2,
   "metadata": {},
   "outputs": [],
   "source": [
    "from convert_to_nnunet_format import create_dataset\n",
    "from totalsegmentator_class_map import  CLASS_MAP_ALL, CLASS_MAP_5_PARTS"
   ]
  },
  {
   "attachments": {},
   "cell_type": "markdown",
   "metadata": {},
   "source": [
    "## Low resolution model preprocessing\n",
    "\n",
    "The low resolution model is trained on all masks together with data resampled to3mm isotropic spacing.\n",
    "\n",
    "Specify `target_spacing=[3, 3, 3]` and `class_map=CLASS_MAP_ALL`."
   ]
  },
  {
   "cell_type": "code",
   "execution_count": null,
   "metadata": {},
   "outputs": [],
   "source": [
    "\n",
    "create_dataset(\n",
    "    input_dir=\"/mnt/ssd1/Totalsegmentator_dataset\",\n",
    "    output_dir=\"/mnt/ssd1/nnUNet_raw/Dataset606_all_TotalSegmentator/\",\n",
    "    target_spacing=[3, 3, 3],\n",
    "    class_map=CLASS_MAP_ALL,\n",
    "    num_cores=1\n",
    ")"
   ]
  },
  {
   "attachments": {},
   "cell_type": "markdown",
   "metadata": {},
   "source": [
    "## High resolution model preprocessing\n",
    "\n",
    "The high resolution model consists of 5 models trained on data resampled to 1.5mm isotropic spacing. Each model is trained on a different sent of masks. These masks are defined in `CLASS_MAP_5_PARTS`, consisting of 'organs', 'vertebrae', 'cardiac', 'muscles', and 'ribs' parts.\n",
    "\n",
    "Specify `target_spacing=[1.5, 1.5, 1.5]` and `class_map=CLASS_MAP_5_PARTS[<GROUP>]`.\n",
    "\n",
    "Make sure to give each dataset a different name."
   ]
  },
  {
   "cell_type": "code",
   "execution_count": null,
   "metadata": {},
   "outputs": [],
   "source": [
    "# Organs\n",
    "create_dataset(\n",
    "    input_dir=\"/mnt/ssd1/Totalsegmentator_dataset\",\n",
    "    output_dir=\"/mnt/ssd1/nnUNet_raw/Dataset601_organs_TotalSegmentator/\",\n",
    "    target_spacing=[1.5, 1.5, 1.5],\n",
    "    class_map=CLASS_MAP_5_PARTS[\"organs\"],\n",
    "    num_cores=1\n",
    ")\n",
    "\n",
    "# Vertebrae\n",
    "create_dataset(\n",
    "    input_dir=\"/mnt/ssd1/Totalsegmentator_dataset\",\n",
    "    output_dir=\"/mnt/ssd1/nnUNet_raw/Dataset602_vertebrae_TotalSegmentator/\",\n",
    "    target_spacing=[1.5, 1.5, 1.5],\n",
    "    class_map=CLASS_MAP_5_PARTS[\"vertebrae\"],\n",
    "    num_cores=1\n",
    ")\n",
    "\n",
    "# Cardiac\n",
    "create_dataset(\n",
    "    input_dir=\"/mnt/ssd1/Totalsegmentator_dataset\",\n",
    "    output_dir=\"/mnt/ssd1/nnUNet_raw/Dataset603_cardiac_TotalSegmentator/\",\n",
    "    target_spacing=[1.5, 1.5, 1.5],\n",
    "    class_map=CLASS_MAP_5_PARTS[\"cardiac\"],\n",
    "    num_cores=1\n",
    ")\n",
    "\n",
    "# Muscles\n",
    "create_dataset(\n",
    "    input_dir=\"/mnt/ssd1/Totalsegmentator_dataset\",\n",
    "    output_dir=\"/mnt/ssd1/nnUNet_raw/Dataset604_muscles_TotalSegmentator/\",\n",
    "    target_spacing=[1.5, 1.5, 1.5],\n",
    "    class_map=CLASS_MAP_5_PARTS[\"muscles\"],\n",
    "    num_cores=1\n",
    ")\n",
    "\n",
    "# Ribs\n",
    "create_dataset(\n",
    "    input_dir=\"/mnt/ssd1/Totalsegmentator_dataset\",\n",
    "    output_dir=\"/mnt/ssd1/nnUNet_raw/Dataset605_ribs_TotalSegmentator/\",\n",
    "    target_spacing=[1.5, 1.5, 1.5],\n",
    "    class_map=CLASS_MAP_5_PARTS[\"ribs\"],\n",
    "    num_cores=1\n",
    ")\n",
    "\n"
   ]
  },
  {
   "cell_type": "code",
   "execution_count": 3,
   "metadata": {},
   "outputs": [
    {
     "data": {
      "text/plain": [
       "dict_keys(['organs', 'vertebrae', 'cardiac', 'muscles', 'ribs'])"
      ]
     },
     "execution_count": 3,
     "metadata": {},
     "output_type": "execute_result"
    }
   ],
   "source": [
    "CLASS_MAP_5_PARTS.keys()"
   ]
  },
  {
   "cell_type": "code",
   "execution_count": null,
   "metadata": {},
   "outputs": [],
   "source": []
  }
 ],
 "metadata": {
  "kernelspec": {
   "display_name": "aim",
   "language": "python",
   "name": "python3"
  },
  "language_info": {
   "codemirror_mode": {
    "name": "ipython",
    "version": 3
   },
   "file_extension": ".py",
   "mimetype": "text/x-python",
   "name": "python",
   "nbconvert_exporter": "python",
   "pygments_lexer": "ipython3",
   "version": "3.11.3"
  },
  "orig_nbformat": 4
 },
 "nbformat": 4,
 "nbformat_minor": 2
}
